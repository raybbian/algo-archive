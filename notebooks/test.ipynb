{
 "cells": [
  {
   "cell_type": "markdown",
   "id": "ca5fe5b3-b55b-41e6-8c6e-b7665491d2a3",
   "metadata": {},
   "source": [
    "# Program to Generate Fibonacci Numbers"
   ]
  },
  {
   "cell_type": "code",
   "execution_count": 1,
   "id": "627bcb82-85d6-49f6-a66c-bf6929e0d488",
   "metadata": {},
   "outputs": [],
   "source": [
    "#include <bits/stdc++.h>\n",
    "using namespace std;"
   ]
  },
  {
   "cell_type": "markdown",
   "id": "b7714ab6-6e08-420b-b4f1-872326be858d",
   "metadata": {},
   "source": [
    "This is the number of Fibonacci numbers that we want to calculate"
   ]
  },
  {
   "cell_type": "code",
   "execution_count": 2,
   "id": "42292a30-f5a3-48ab-83fe-b89194d72b26",
   "metadata": {},
   "outputs": [],
   "source": [
    "constexpr int n = 25;"
   ]
  },
  {
   "cell_type": "code",
   "execution_count": 3,
   "id": "eec5bcf8-2d63-49cc-8a89-30f6e9f03d3e",
   "metadata": {},
   "outputs": [],
   "source": [
    "vector<int> dp(n, 0);\n",
    "dp[0] = 1;\n",
    "dp[1] = 1;"
   ]
  },
  {
   "cell_type": "code",
   "execution_count": 4,
   "id": "61cb1563-2c8a-445c-a6ed-3cf15c74a66a",
   "metadata": {},
   "outputs": [],
   "source": [
    "for (int i = 2; i < n; i++) {\n",
    "    dp[i] = dp[i - 1] + dp[i - 2];\n",
    "}"
   ]
  },
  {
   "cell_type": "code",
   "execution_count": 5,
   "id": "4508104b-bb5e-4c20-b537-a9cca617cb39",
   "metadata": {},
   "outputs": [
    {
     "name": "stdout",
     "output_type": "stream",
     "text": [
      "1 1 2 3 5 8 13 21 34 55 89 144 233 377 610 987 1597 2584 4181 6765 10946 17711 28657 46368 75025 \n"
     ]
    }
   ],
   "source": [
    "for (int i = 0; i < n; i++) {\n",
    "    cout << dp[i] << \" \";\n",
    "}\n",
    "cout << \"\\n\";"
   ]
  },
  {
   "cell_type": "code",
   "execution_count": null,
   "id": "80adddfa-b028-44c6-bcf1-19ddfd8de705",
   "metadata": {},
   "outputs": [],
   "source": []
  }
 ],
 "metadata": {
  "kernelspec": {
   "display_name": "C++17",
   "language": "C++17",
   "name": "xcpp17"
  },
  "language_info": {
   "codemirror_mode": "text/x-c++src",
   "file_extension": ".cpp",
   "mimetype": "text/x-c++src",
   "name": "c++",
   "version": "17"
  }
 },
 "nbformat": 4,
 "nbformat_minor": 5
}
