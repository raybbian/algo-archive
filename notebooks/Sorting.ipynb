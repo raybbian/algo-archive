{
 "cells": [
  {
   "cell_type": "markdown",
   "id": "1648a4a9-9e49-4634-ad9a-c21d6cb2f766",
   "metadata": {},
   "source": [
    "# Sorting"
   ]
  },
  {
   "cell_type": "code",
   "execution_count": 5,
   "id": "7b9e8cbd-64b6-4b20-9261-8da6e236be16",
   "metadata": {},
   "outputs": [],
   "source": [
    "#include <bits/stdc++.h>\n",
    "using namespace std;"
   ]
  },
  {
   "cell_type": "markdown",
   "id": "49d5e0ed-93b1-4365-b9bd-709e9e211493",
   "metadata": {},
   "source": [
    "The array that we will use to test our sorting algorithms:"
   ]
  },
  {
   "cell_type": "code",
   "execution_count": 6,
   "id": "216c10ec-7e17-44c8-a180-0c4057194cfc",
   "metadata": {},
   "outputs": [],
   "source": [
    "int arr[] = {5, 7, 6, 2, 3, 8, 9, 1, 4};\n",
    "int n = 9;"
   ]
  },
  {
   "cell_type": "markdown",
   "id": "f2123f51-0118-4455-b314-eb5b1f252032",
   "metadata": {},
   "source": [
    "## Bubble Sort\n",
    "\n",
    "Take note of the inner for loop. We bubble elements up to the top, switching them if they are not in the correct place. Then, we repeat the process on the next part of the array."
   ]
  },
  {
   "cell_type": "code",
   "execution_count": 7,
   "id": "e901470a-ca8e-4e83-a754-a6a90f7f16d9",
   "metadata": {},
   "outputs": [],
   "source": [
    "for (int i = 0; i < n - 1; i++) {\n",
    "    for (int j = 0; j < n - 1 - i; j++) {\n",
    "        if (arr[j] > arr[j+1]) {\n",
    "            int temp = arr[j];\n",
    "            arr[j] = arr[j + 1];\n",
    "            arr[j + 1] = temp;\n",
    "        }\n",
    "    }\n",
    "}"
   ]
  },
  {
   "cell_type": "markdown",
   "id": "82492805-42cb-41d6-b0aa-e5304c5b9422",
   "metadata": {},
   "source": [
    "Checking the output:"
   ]
  },
  {
   "cell_type": "code",
   "execution_count": 9,
   "id": "383e265c-d72c-48e8-adc3-b74b49a5b39b",
   "metadata": {},
   "outputs": [
    {
     "name": "stdout",
     "output_type": "stream",
     "text": [
      "1 2 3 4 5 6 7 8 9 \n"
     ]
    }
   ],
   "source": [
    "for (int i = 0; i < n; i++) {\n",
    "    cout << arr[i] << \" \";\n",
    "}\n",
    "cout << \"\\n\";"
   ]
  }
 ],
 "metadata": {
  "kernelspec": {
   "display_name": "C++17",
   "language": "C++17",
   "name": "xcpp17"
  },
  "language_info": {
   "codemirror_mode": "text/x-c++src",
   "file_extension": ".cpp",
   "mimetype": "text/x-c++src",
   "name": "c++",
   "version": "17"
  }
 },
 "nbformat": 4,
 "nbformat_minor": 5
}
